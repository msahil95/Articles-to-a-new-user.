{
 "cells": [
  {
   "cell_type": "markdown",
   "id": "38f02b7e",
   "metadata": {},
   "source": [
    "# Q12  By MSahil"
   ]
  },
  {
   "cell_type": "markdown",
   "id": "f8cf9294",
   "metadata": {},
   "source": [
    "Using a dataset of recommendations, build machine-learning models that recommend articles to a new user. Specifically, build online learning models and supervised learning models, and compare the results. First, build three multi-armed bandits using Epsilon greedy, UCB1, and Thompson Sampling algorithms. You may use only two features from the dataset: ‘Recommendation’ and ‘Reward’. Second, build contextual bandits using the reward and historical data provided. Third, build three classification models using the features ‘Age’ and ‘Gender’ to predict recommendations for the new user. "
   ]
  },
  {
   "cell_type": "code",
   "execution_count": 1,
   "id": "8d065226",
   "metadata": {},
   "outputs": [],
   "source": [
    "import numpy as np\n",
    "import matplotlib.pyplot as plt\n",
    "import pandas as pd\n",
    "from sklearn.metrics import accuracy_score"
   ]
  },
  {
   "cell_type": "code",
   "execution_count": 2,
   "id": "590187e5",
   "metadata": {},
   "outputs": [
    {
     "data": {
      "text/html": [
       "<div>\n",
       "<style scoped>\n",
       "    .dataframe tbody tr th:only-of-type {\n",
       "        vertical-align: middle;\n",
       "    }\n",
       "\n",
       "    .dataframe tbody tr th {\n",
       "        vertical-align: top;\n",
       "    }\n",
       "\n",
       "    .dataframe thead th {\n",
       "        text-align: right;\n",
       "    }\n",
       "</style>\n",
       "<table border=\"1\" class=\"dataframe\">\n",
       "  <thead>\n",
       "    <tr style=\"text-align: right;\">\n",
       "      <th></th>\n",
       "      <th>Gender</th>\n",
       "      <th>Age</th>\n",
       "      <th>Recommendation</th>\n",
       "      <th>Reward</th>\n",
       "    </tr>\n",
       "  </thead>\n",
       "  <tbody>\n",
       "    <tr>\n",
       "      <th>0</th>\n",
       "      <td>m</td>\n",
       "      <td>29.0</td>\n",
       "      <td>health</td>\n",
       "      <td>0</td>\n",
       "    </tr>\n",
       "    <tr>\n",
       "      <th>1</th>\n",
       "      <td>m</td>\n",
       "      <td>28.0</td>\n",
       "      <td>movies</td>\n",
       "      <td>1</td>\n",
       "    </tr>\n",
       "    <tr>\n",
       "      <th>2</th>\n",
       "      <td>m</td>\n",
       "      <td>34.0</td>\n",
       "      <td>news</td>\n",
       "      <td>1</td>\n",
       "    </tr>\n",
       "    <tr>\n",
       "      <th>3</th>\n",
       "      <td>m</td>\n",
       "      <td>36.0</td>\n",
       "      <td>health</td>\n",
       "      <td>0</td>\n",
       "    </tr>\n",
       "    <tr>\n",
       "      <th>4</th>\n",
       "      <td>f</td>\n",
       "      <td>24.0</td>\n",
       "      <td>news</td>\n",
       "      <td>0</td>\n",
       "    </tr>\n",
       "  </tbody>\n",
       "</table>\n",
       "</div>"
      ],
      "text/plain": [
       "  Gender   Age Recommendation  Reward\n",
       "0      m  29.0         health       0\n",
       "1      m  28.0         movies       1\n",
       "2      m  34.0           news       1\n",
       "3      m  36.0         health       0\n",
       "4      f  24.0           news       0"
      ]
     },
     "execution_count": 2,
     "metadata": {},
     "output_type": "execute_result"
    }
   ],
   "source": [
    "data = pd.read_csv('SimulatedArticleData.csv', index_col=[0])\n",
    "data.head()"
   ]
  },
  {
   "cell_type": "code",
   "execution_count": 3,
   "id": "5fe45c3f",
   "metadata": {},
   "outputs": [],
   "source": [
    "msk = np.random.rand(len(data)) < 0.8\n",
    "dataset = data[msk]\n",
    "test = data[~msk]\n",
    "dataset.reset_index(drop=True, inplace=True)\n",
    "test.reset_index(drop=True, inplace=True)"
   ]
  },
  {
   "cell_type": "code",
   "execution_count": 4,
   "id": "1129e362",
   "metadata": {},
   "outputs": [
    {
     "data": {
      "text/html": [
       "<div>\n",
       "<style scoped>\n",
       "    .dataframe tbody tr th:only-of-type {\n",
       "        vertical-align: middle;\n",
       "    }\n",
       "\n",
       "    .dataframe tbody tr th {\n",
       "        vertical-align: top;\n",
       "    }\n",
       "\n",
       "    .dataframe thead th {\n",
       "        text-align: right;\n",
       "    }\n",
       "</style>\n",
       "<table border=\"1\" class=\"dataframe\">\n",
       "  <thead>\n",
       "    <tr style=\"text-align: right;\">\n",
       "      <th></th>\n",
       "      <th>Gender</th>\n",
       "      <th>Age</th>\n",
       "      <th>Recommendation</th>\n",
       "      <th>Reward</th>\n",
       "    </tr>\n",
       "  </thead>\n",
       "  <tbody>\n",
       "    <tr>\n",
       "      <th>0</th>\n",
       "      <td>m</td>\n",
       "      <td>29.0</td>\n",
       "      <td>health</td>\n",
       "      <td>0</td>\n",
       "    </tr>\n",
       "    <tr>\n",
       "      <th>1</th>\n",
       "      <td>m</td>\n",
       "      <td>28.0</td>\n",
       "      <td>movies</td>\n",
       "      <td>1</td>\n",
       "    </tr>\n",
       "    <tr>\n",
       "      <th>2</th>\n",
       "      <td>m</td>\n",
       "      <td>36.0</td>\n",
       "      <td>health</td>\n",
       "      <td>0</td>\n",
       "    </tr>\n",
       "    <tr>\n",
       "      <th>3</th>\n",
       "      <td>f</td>\n",
       "      <td>24.0</td>\n",
       "      <td>news</td>\n",
       "      <td>0</td>\n",
       "    </tr>\n",
       "    <tr>\n",
       "      <th>4</th>\n",
       "      <td>f</td>\n",
       "      <td>61.0</td>\n",
       "      <td>sports</td>\n",
       "      <td>0</td>\n",
       "    </tr>\n",
       "  </tbody>\n",
       "</table>\n",
       "</div>"
      ],
      "text/plain": [
       "  Gender   Age Recommendation  Reward\n",
       "0      m  29.0         health       0\n",
       "1      m  28.0         movies       1\n",
       "2      m  36.0         health       0\n",
       "3      f  24.0           news       0\n",
       "4      f  61.0         sports       0"
      ]
     },
     "execution_count": 4,
     "metadata": {},
     "output_type": "execute_result"
    }
   ],
   "source": [
    "dataset.head()"
   ]
  },
  {
   "cell_type": "code",
   "execution_count": 5,
   "id": "1c8c0b97",
   "metadata": {},
   "outputs": [
    {
     "data": {
      "text/html": [
       "<div>\n",
       "<style scoped>\n",
       "    .dataframe tbody tr th:only-of-type {\n",
       "        vertical-align: middle;\n",
       "    }\n",
       "\n",
       "    .dataframe tbody tr th {\n",
       "        vertical-align: top;\n",
       "    }\n",
       "\n",
       "    .dataframe thead th {\n",
       "        text-align: right;\n",
       "    }\n",
       "</style>\n",
       "<table border=\"1\" class=\"dataframe\">\n",
       "  <thead>\n",
       "    <tr style=\"text-align: right;\">\n",
       "      <th></th>\n",
       "      <th>Recommendation</th>\n",
       "      <th>Reward</th>\n",
       "    </tr>\n",
       "  </thead>\n",
       "  <tbody>\n",
       "    <tr>\n",
       "      <th>0</th>\n",
       "      <td>health</td>\n",
       "      <td>0</td>\n",
       "    </tr>\n",
       "    <tr>\n",
       "      <th>1</th>\n",
       "      <td>movies</td>\n",
       "      <td>1</td>\n",
       "    </tr>\n",
       "    <tr>\n",
       "      <th>2</th>\n",
       "      <td>health</td>\n",
       "      <td>0</td>\n",
       "    </tr>\n",
       "    <tr>\n",
       "      <th>3</th>\n",
       "      <td>news</td>\n",
       "      <td>0</td>\n",
       "    </tr>\n",
       "    <tr>\n",
       "      <th>4</th>\n",
       "      <td>sports</td>\n",
       "      <td>0</td>\n",
       "    </tr>\n",
       "  </tbody>\n",
       "</table>\n",
       "</div>"
      ],
      "text/plain": [
       "  Recommendation  Reward\n",
       "0         health       0\n",
       "1         movies       1\n",
       "2         health       0\n",
       "3           news       0\n",
       "4         sports       0"
      ]
     },
     "execution_count": 5,
     "metadata": {},
     "output_type": "execute_result"
    }
   ],
   "source": [
    "DF = dataset[['Recommendation','Reward']]\n",
    "N = len(DF) # number of trail\n",
    "DF.head()"
   ]
  },
  {
   "cell_type": "code",
   "execution_count": 6,
   "id": "682098a5",
   "metadata": {},
   "outputs": [],
   "source": [
    "Arms = dataset['Recommendation'].unique().tolist()\n",
    "dec = {Arms[0]:1,\n",
    "       Arms[1]:1,\n",
    "       Arms[2]:1,\n",
    "       Arms[3]:1,\n",
    "}"
   ]
  },
  {
   "cell_type": "code",
   "execution_count": 7,
   "id": "fa6c91af",
   "metadata": {
    "scrolled": true
   },
   "outputs": [
    {
     "data": {
      "text/plain": [
       "['health', 'movies', 'news', 'sports']"
      ]
     },
     "execution_count": 7,
     "metadata": {},
     "output_type": "execute_result"
    }
   ],
   "source": [
    "Arms"
   ]
  },
  {
   "cell_type": "code",
   "execution_count": 8,
   "id": "032f7ae9",
   "metadata": {},
   "outputs": [
    {
     "data": {
      "text/plain": [
       "{'health': 1, 'movies': 1, 'news': 1, 'sports': 1}"
      ]
     },
     "execution_count": 8,
     "metadata": {},
     "output_type": "execute_result"
    }
   ],
   "source": [
    "dec"
   ]
  },
  {
   "cell_type": "markdown",
   "id": "740e6ae2",
   "metadata": {},
   "source": [
    "# Implementing Epsilon Greedy"
   ]
  },
  {
   "cell_type": "code",
   "execution_count": 9,
   "id": "1172a0e4",
   "metadata": {},
   "outputs": [],
   "source": [
    "ads_selected = []\n",
    "numbers_of_selections = dec.copy()\n",
    "sums_of_rewards = dec.copy()\n",
    "total_reward = 0\n",
    "\n",
    "eps = 0.4 \n",
    "for n in range(0, N):\n",
    "\n",
    "    if np.random.random() < eps:\n",
    "       \n",
    "        ad = np.random.choice(Arms)\n",
    "    else:\n",
    "        ad = max(sums_of_rewards, key=sums_of_rewards.get)\n",
    "    \n",
    "    ads_selected.append(ad)\n",
    "    \n",
    "    numbers_of_selections[ad] = numbers_of_selections[ad] + 1\n",
    "    reward = DF.Reward[n]\n",
    "    sums_of_rewards[ad] = sums_of_rewards[ad] + reward\n",
    "    total_reward = total_reward + reward"
   ]
  },
  {
   "cell_type": "markdown",
   "id": "e7ef26ba",
   "metadata": {},
   "source": [
    "# Visualising the results"
   ]
  },
  {
   "cell_type": "code",
   "execution_count": 10,
   "id": "adca32ec",
   "metadata": {},
   "outputs": [
    {
     "data": {
      "image/png": "[encoded data removed]",
      "text/plain": [
       "<Figure size 432x288 with 1 Axes>"
      ]
     },
     "metadata": {
      "needs_background": "light"
     },
     "output_type": "display_data"
    }
   ],
   "source": [
    "plt.hist(ads_selected)\n",
    "plt.title('Histogram of ads selections')\n",
    "plt.xlabel('Ads')\n",
    "plt.ylabel('Number of times each ad was selected')\n",
    "plt.show()"
   ]
  },
  {
   "cell_type": "code",
   "execution_count": 11,
   "id": "4aec1974",
   "metadata": {},
   "outputs": [
    {
     "data": {
      "text/plain": [
       "health    2784\n",
       "movies     440\n",
       "news       413\n",
       "sports     370\n",
       "dtype: int64"
      ]
     },
     "execution_count": 11,
     "metadata": {},
     "output_type": "execute_result"
    }
   ],
   "source": [
    "pd.Series(ads_selected).value_counts()"
   ]
  },
  {
   "cell_type": "markdown",
   "id": "39b67393",
   "metadata": {},
   "source": [
    "# On Testing dataset"
   ]
  },
  {
   "cell_type": "code",
   "execution_count": 12,
   "id": "1b0ce450",
   "metadata": {},
   "outputs": [
    {
     "data": {
      "text/plain": [
       "0.2588116817724068"
      ]
     },
     "execution_count": 12,
     "metadata": {},
     "output_type": "execute_result"
    }
   ],
   "source": [
    "testEG = test.copy()\n",
    "testEG['prediction'] = pd.Series(ads_selected).value_counts().idxmax()\n",
    "testEG[\"Recommendation\"] = testEG[\"Recommendation\"].astype('category')\n",
    "testEG[\"prediction\"] = testEG[\"prediction\"].astype('category')\n",
    "testEG[\"prediction\"] = testEG[\"prediction\"].cat.codes\n",
    "testEG[\"Recommendation\"] = testEG[\"Recommendation\"].cat.codes\n",
    "accuracy_score(testEG[\"Recommendation\"] , testEG[\"prediction\"])"
   ]
  },
  {
   "cell_type": "markdown",
   "id": "e6b703c3",
   "metadata": {},
   "source": [
    "# Upper Confidence Bound (UCB)"
   ]
  },
  {
   "cell_type": "code",
   "execution_count": 13,
   "id": "59697918",
   "metadata": {},
   "outputs": [],
   "source": [
    "import math\n",
    "ads_selected = []\n",
    "numbers_of_selections = dec.copy()\n",
    "sums_of_rewards = dec.copy()\n",
    "Total_upper_bound = dec.copy()\n",
    "total_reward = 0\n",
    "for n in range(200):\n",
    "   \n",
    "    ad = np.random.choice(Arms) \n",
    "    ads_selected.append(ad)   \n",
    "    numbers_of_selections[ad] = numbers_of_selections[ad] + 1\n",
    "    reward = DF.Reward[n]\n",
    "    sums_of_rewards[ad] = sums_of_rewards[ad] + reward\n",
    "    total_reward = total_reward + reward\n",
    "    \n",
    "    \n",
    "for n in range(200, N):\n",
    "    average_reward = sums_of_rewards[ad] / numbers_of_selections[ad]\n",
    "   \n",
    "    delta_i = math.sqrt((math.log(n + 1))/numbers_of_selections[ad])\n",
    "    upper_bound = average_reward + delta_i\n",
    "    Total_upper_bound[ad] = Total_upper_bound[ad] + upper_bound\n",
    "\n",
    "    ad = max(Total_upper_bound, key=Total_upper_bound.get)   \n",
    "    ads_selected.append(ad)\n",
    "    \n",
    "    numbers_of_selections[ad] = numbers_of_selections[ad] + 1\n",
    "    reward = DF.Reward[n]\n",
    "    sums_of_rewards[ad] = sums_of_rewards[ad] + reward\n",
    "    total_reward = total_reward + reward"
   ]
  },
  {
   "cell_type": "markdown",
   "id": "00207dd8",
   "metadata": {},
   "source": [
    "# Visualising the results"
   ]
  },
  {
   "cell_type": "code",
   "execution_count": 14,
   "id": "11a589d6",
   "metadata": {},
   "outputs": [
    {
     "data": {
      "image/png": "[encoded data removed]",
      "text/plain": [
       "<Figure size 432x288 with 1 Axes>"
      ]
     },
     "metadata": {
      "needs_background": "light"
     },
     "output_type": "display_data"
    }
   ],
   "source": [
    "plt.hist(ads_selected)\n",
    "plt.title('Histogram of ads selections')\n",
    "plt.xlabel('Ads')\n",
    "plt.ylabel('Number of times each ad was selected')\n",
    "plt.show()"
   ]
  },
  {
   "cell_type": "code",
   "execution_count": 15,
   "id": "c63371b7",
   "metadata": {},
   "outputs": [
    {
     "data": {
      "text/plain": [
       "movies    3845\n",
       "health      60\n",
       "sports      54\n",
       "news        48\n",
       "dtype: int64"
      ]
     },
     "execution_count": 15,
     "metadata": {},
     "output_type": "execute_result"
    }
   ],
   "source": [
    "pd.Series(ads_selected).value_counts()"
   ]
  },
  {
   "cell_type": "code",
   "execution_count": 16,
   "id": "397d24ce",
   "metadata": {},
   "outputs": [
    {
     "data": {
      "text/plain": [
       "0.2588116817724068"
      ]
     },
     "execution_count": 16,
     "metadata": {},
     "output_type": "execute_result"
    }
   ],
   "source": [
    "testUCB = test.copy()\n",
    "testUCB['prediction'] = pd.Series(ads_selected).value_counts().idxmax()\n",
    "testUCB[\"Recommendation\"] = testUCB[\"Recommendation\"].astype('category')\n",
    "testUCB[\"prediction\"] = testUCB[\"prediction\"].astype('category')\n",
    "testUCB[\"prediction\"] = testUCB[\"prediction\"].cat.codes\n",
    "testUCB[\"Recommendation\"] = testUCB[\"Recommendation\"].cat.codes\n",
    "accuracy_score(testUCB[\"Recommendation\"] , testUCB[\"prediction\"])"
   ]
  },
  {
   "cell_type": "markdown",
   "id": "6d5f491d",
   "metadata": {},
   "source": [
    "# Thompson Sampling"
   ]
  },
  {
   "cell_type": "code",
   "execution_count": 17,
   "id": "631f8180",
   "metadata": {},
   "outputs": [],
   "source": [
    "import random\n",
    "ads_selected = []\n",
    "numbers_of_rewards_S = dec.copy()\n",
    "numbers_of_rewards_F = dec.copy()\n",
    "BetaArms = dec.copy()\n",
    "\n",
    "total_reward = 0\n",
    "\n",
    "ad = 'news'\n",
    "\n",
    "for n in range(0, N):\n",
    "    for key in dec:\n",
    "        \n",
    "        BetaArms[key] = (np.random.beta(numbers_of_rewards_S[key] + 1, numbers_of_rewards_F[key] + 1)) \n",
    "    ad = max(BetaArms, key=BetaArms.get) \n",
    "        \n",
    "    ads_selected.append(ad)\n",
    "    \n",
    "    \n",
    "    reward = DF.Reward[n]\n",
    "    if reward == 1:\n",
    "        numbers_of_rewards_S[ad] = numbers_of_rewards_S[ad] + 1\n",
    "    else:\n",
    "        numbers_of_rewards_F[ad] = numbers_of_rewards_F[ad] + 1\n",
    "    total_reward = total_reward + reward"
   ]
  },
  {
   "cell_type": "markdown",
   "id": "414717e2",
   "metadata": {},
   "source": [
    "# Visualising the results - Histogram"
   ]
  },
  {
   "cell_type": "code",
   "execution_count": 18,
   "id": "2f033930",
   "metadata": {},
   "outputs": [
    {
     "data": {
      "image/png": "[encoded data removed]",
      "text/plain": [
       "<Figure size 432x288 with 1 Axes>"
      ]
     },
     "metadata": {
      "needs_background": "light"
     },
     "output_type": "display_data"
    }
   ],
   "source": [
    "plt.hist(ads_selected)\n",
    "plt.title('Histogram of ads selections')\n",
    "plt.xlabel('Ads')\n",
    "plt.ylabel('Number of times each ad was selected')\n",
    "plt.show()"
   ]
  },
  {
   "cell_type": "code",
   "execution_count": 19,
   "id": "3f9d9d88",
   "metadata": {},
   "outputs": [
    {
     "data": {
      "text/plain": [
       "sports    2730\n",
       "movies     588\n",
       "health     587\n",
       "news       102\n",
       "dtype: int64"
      ]
     },
     "execution_count": 19,
     "metadata": {},
     "output_type": "execute_result"
    }
   ],
   "source": [
    "pd.Series(ads_selected).value_counts()"
   ]
  },
  {
   "cell_type": "code",
   "execution_count": 20,
   "id": "48a3313e",
   "metadata": {},
   "outputs": [
    {
     "data": {
      "text/plain": [
       "0.2588116817724068"
      ]
     },
     "execution_count": 20,
     "metadata": {},
     "output_type": "execute_result"
    }
   ],
   "source": [
    "testTS = test.copy()\n",
    "testTS['prediction'] = pd.Series(ads_selected).value_counts().idxmax()\n",
    "testTS[\"Recommendation\"] = testTS[\"Recommendation\"].astype('category')\n",
    "testTS[\"prediction\"] = testTS[\"prediction\"].astype('category')\n",
    "testTS[\"prediction\"] = testTS[\"prediction\"].cat.codes\n",
    "testTS[\"Recommendation\"] = testTS[\"Recommendation\"].cat.codes\n",
    "accuracy_score(testTS[\"Recommendation\"] , testTS[\"prediction\"])"
   ]
  },
  {
   "cell_type": "markdown",
   "id": "33345641",
   "metadata": {},
   "source": [
    "# Contextual bandit"
   ]
  },
  {
   "cell_type": "code",
   "execution_count": 21,
   "id": "1845c416",
   "metadata": {},
   "outputs": [
    {
     "data": {
      "text/plain": [
       "4"
      ]
     },
     "execution_count": 21,
     "metadata": {},
     "output_type": "execute_result"
    }
   ],
   "source": [
    "len(Arms)"
   ]
  },
  {
   "cell_type": "code",
   "execution_count": 22,
   "id": "16aaff28",
   "metadata": {},
   "outputs": [],
   "source": [
    "dfContBand = dataset.copy()"
   ]
  },
  {
   "cell_type": "code",
   "execution_count": 23,
   "id": "1522bd55",
   "metadata": {},
   "outputs": [
    {
     "data": {
      "text/plain": [
       "array(['health', 'movies', 'news', 'sports'], dtype=object)"
      ]
     },
     "execution_count": 23,
     "metadata": {},
     "output_type": "execute_result"
    }
   ],
   "source": [
    "from sklearn import preprocessing\n",
    "le = preprocessing.LabelEncoder()\n",
    "le.fit(dfContBand['Recommendation'])\n",
    "dfContBand['Recommendation'] = le.transform(dfContBand['Recommendation'])\n",
    "le.classes_"
   ]
  },
  {
   "cell_type": "code",
   "execution_count": 24,
   "id": "19d1c5a0",
   "metadata": {},
   "outputs": [
    {
     "data": {
      "text/plain": [
       "array(['health', 'movies', 'news', 'sports'], dtype=object)"
      ]
     },
     "execution_count": 24,
     "metadata": {},
     "output_type": "execute_result"
    }
   ],
   "source": [
    "le.inverse_transform([0, 1, 2, 3])"
   ]
  },
  {
   "cell_type": "code",
   "execution_count": 25,
   "id": "770409e8",
   "metadata": {},
   "outputs": [
    {
     "data": {
      "text/html": [
       "<div>\n",
       "<style scoped>\n",
       "    .dataframe tbody tr th:only-of-type {\n",
       "        vertical-align: middle;\n",
       "    }\n",
       "\n",
       "    .dataframe tbody tr th {\n",
       "        vertical-align: top;\n",
       "    }\n",
       "\n",
       "    .dataframe thead th {\n",
       "        text-align: right;\n",
       "    }\n",
       "</style>\n",
       "<table border=\"1\" class=\"dataframe\">\n",
       "  <thead>\n",
       "    <tr style=\"text-align: right;\">\n",
       "      <th></th>\n",
       "      <th>Gender</th>\n",
       "      <th>Age</th>\n",
       "      <th>Recommendation</th>\n",
       "      <th>Reward</th>\n",
       "      <th>probability</th>\n",
       "      <th>cost</th>\n",
       "    </tr>\n",
       "  </thead>\n",
       "  <tbody>\n",
       "    <tr>\n",
       "      <th>0</th>\n",
       "      <td>m</td>\n",
       "      <td>29.0</td>\n",
       "      <td>0</td>\n",
       "      <td>0</td>\n",
       "      <td>0.5</td>\n",
       "      <td>0</td>\n",
       "    </tr>\n",
       "    <tr>\n",
       "      <th>1</th>\n",
       "      <td>m</td>\n",
       "      <td>28.0</td>\n",
       "      <td>1</td>\n",
       "      <td>1</td>\n",
       "      <td>0.5</td>\n",
       "      <td>-1</td>\n",
       "    </tr>\n",
       "    <tr>\n",
       "      <th>2</th>\n",
       "      <td>m</td>\n",
       "      <td>36.0</td>\n",
       "      <td>0</td>\n",
       "      <td>0</td>\n",
       "      <td>0.5</td>\n",
       "      <td>0</td>\n",
       "    </tr>\n",
       "    <tr>\n",
       "      <th>3</th>\n",
       "      <td>f</td>\n",
       "      <td>24.0</td>\n",
       "      <td>2</td>\n",
       "      <td>0</td>\n",
       "      <td>0.5</td>\n",
       "      <td>0</td>\n",
       "    </tr>\n",
       "    <tr>\n",
       "      <th>4</th>\n",
       "      <td>f</td>\n",
       "      <td>61.0</td>\n",
       "      <td>3</td>\n",
       "      <td>0</td>\n",
       "      <td>0.5</td>\n",
       "      <td>0</td>\n",
       "    </tr>\n",
       "  </tbody>\n",
       "</table>\n",
       "</div>"
      ],
      "text/plain": [
       "  Gender   Age  Recommendation  Reward  probability  cost\n",
       "0      m  29.0               0       0          0.5     0\n",
       "1      m  28.0               1       1          0.5    -1\n",
       "2      m  36.0               0       0          0.5     0\n",
       "3      f  24.0               2       0          0.5     0\n",
       "4      f  61.0               3       0          0.5     0"
      ]
     },
     "execution_count": 25,
     "metadata": {},
     "output_type": "execute_result"
    }
   ],
   "source": [
    "dfContBand['probability'] = 0.5\n",
    "dfContBand['cost'] = 0 - dfContBand['Reward']\n",
    "dfContBand.head()"
   ]
  },
  {
   "cell_type": "markdown",
   "id": "45becca1",
   "metadata": {},
   "source": [
    "# Build the Model"
   ]
  },
  {
   "cell_type": "code",
   "execution_count": 26,
   "id": "0430404e",
   "metadata": {},
   "outputs": [
    {
     "name": "stdout",
     "output_type": "stream",
     "text": [
      "Requirement already satisfied: vowpalwabbit in c:\\users\\muskan\\anaconda3\\lib\\site-packages (9.1.0)\n"
     ]
    }
   ],
   "source": [
    "!pip install vowpalwabbit"
   ]
  },
  {
   "cell_type": "code",
   "execution_count": 27,
   "id": "70c2109f",
   "metadata": {},
   "outputs": [
    {
     "name": "stderr",
     "output_type": "stream",
     "text": [
      "C:\\Users\\muskan\\AppData\\Local\\Temp/ipykernel_14884/1975050073.py:3: DeprecationWarning: vw has been renamed to Workspace, the alias will be removed in the future\n",
      "  vw = pyvw.vw(\"--cb 4\")\n"
     ]
    }
   ],
   "source": [
    "from vowpalwabbit import pyvw\n",
    "\n",
    "vw = pyvw.vw(\"--cb 4\") "
   ]
  },
  {
   "cell_type": "code",
   "execution_count": null,
   "id": "38433b4f",
   "metadata": {},
   "outputs": [],
   "source": []
  },
  {
   "cell_type": "code",
   "execution_count": 28,
   "id": "6e20b2a1",
   "metadata": {},
   "outputs": [],
   "source": [
    "# Define the parameters\n",
    "\n",
    "for i in dfContBand.index:\n",
    "  action = dfContBand.loc[i, \"Recommendation\"]\n",
    "  cost = dfContBand.loc[i, \"cost\"]\n",
    "  probability = dfContBand.loc[i, \"probability\"]\n",
    "  Gender = dfContBand.loc[i, \"Gender\"]\n",
    "  Age = dfContBand.loc[i, \"Age\"]\n",
    "\n",
    "  \n",
    "  learn_example = str(action) + \":\" + str(cost) + \":\" + str(probability) +  \" | \" + str(Gender) + \" \" + str(Age)\n",
    "#\n",
    " "
   ]
  },
  {
   "cell_type": "code",
   "execution_count": 29,
   "id": "a700f8ed",
   "metadata": {},
   "outputs": [
    {
     "name": "stdout",
     "output_type": "stream",
     "text": [
      "Show action number  ['movies']\n"
     ]
    }
   ],
   "source": [
    "print(\"Show action number \", le.inverse_transform([vw.predict('|m 29')]))"
   ]
  },
  {
   "cell_type": "code",
   "execution_count": 30,
   "id": "d26ee4ac",
   "metadata": {},
   "outputs": [
    {
     "data": {
      "text/plain": [
       "array(['sports'], dtype=object)"
      ]
     },
     "execution_count": 30,
     "metadata": {},
     "output_type": "execute_result"
    }
   ],
   "source": [
    "le.inverse_transform([3])"
   ]
  },
  {
   "cell_type": "code",
   "execution_count": 31,
   "id": "7f853280",
   "metadata": {},
   "outputs": [],
   "source": [
    "dstwst = dataset[['Gender','Age']]"
   ]
  },
  {
   "cell_type": "code",
   "execution_count": 32,
   "id": "bda10c6d",
   "metadata": {},
   "outputs": [],
   "source": [
    "target = []\n",
    "dstwst=test.copy()\n",
    "for j in dstwst.index:\n",
    "    Gender = dstwst.loc[j, \"Gender\"]\n",
    "    Age = dstwst.loc[j, \"Age\"]\n",
    "    test_example = \"| \" + str(Gender) + \" \" + str(Age)\n",
    "    choice = vw.predict(test_example)\n",
    "    target.append(choice)\n",
    "dstwst['prediction'] = le.inverse_transform(target)"
   ]
  },
  {
   "cell_type": "code",
   "execution_count": 33,
   "id": "b8d6dfee",
   "metadata": {},
   "outputs": [
    {
     "data": {
      "text/html": [
       "<div>\n",
       "<style scoped>\n",
       "    .dataframe tbody tr th:only-of-type {\n",
       "        vertical-align: middle;\n",
       "    }\n",
       "\n",
       "    .dataframe tbody tr th {\n",
       "        vertical-align: top;\n",
       "    }\n",
       "\n",
       "    .dataframe thead th {\n",
       "        text-align: right;\n",
       "    }\n",
       "</style>\n",
       "<table border=\"1\" class=\"dataframe\">\n",
       "  <thead>\n",
       "    <tr style=\"text-align: right;\">\n",
       "      <th></th>\n",
       "      <th>Gender</th>\n",
       "      <th>Age</th>\n",
       "      <th>Recommendation</th>\n",
       "      <th>Reward</th>\n",
       "      <th>prediction</th>\n",
       "    </tr>\n",
       "  </thead>\n",
       "  <tbody>\n",
       "    <tr>\n",
       "      <th>0</th>\n",
       "      <td>m</td>\n",
       "      <td>34.0</td>\n",
       "      <td>news</td>\n",
       "      <td>1</td>\n",
       "      <td>movies</td>\n",
       "    </tr>\n",
       "    <tr>\n",
       "      <th>1</th>\n",
       "      <td>m</td>\n",
       "      <td>73.0</td>\n",
       "      <td>news</td>\n",
       "      <td>0</td>\n",
       "      <td>movies</td>\n",
       "    </tr>\n",
       "    <tr>\n",
       "      <th>2</th>\n",
       "      <td>f</td>\n",
       "      <td>71.0</td>\n",
       "      <td>sports</td>\n",
       "      <td>0</td>\n",
       "      <td>movies</td>\n",
       "    </tr>\n",
       "    <tr>\n",
       "      <th>3</th>\n",
       "      <td>f</td>\n",
       "      <td>22.0</td>\n",
       "      <td>health</td>\n",
       "      <td>0</td>\n",
       "      <td>movies</td>\n",
       "    </tr>\n",
       "    <tr>\n",
       "      <th>4</th>\n",
       "      <td>f</td>\n",
       "      <td>74.0</td>\n",
       "      <td>movies</td>\n",
       "      <td>0</td>\n",
       "      <td>movies</td>\n",
       "    </tr>\n",
       "  </tbody>\n",
       "</table>\n",
       "</div>"
      ],
      "text/plain": [
       "  Gender   Age Recommendation  Reward prediction\n",
       "0      m  34.0           news       1     movies\n",
       "1      m  73.0           news       0     movies\n",
       "2      f  71.0         sports       0     movies\n",
       "3      f  22.0         health       0     movies\n",
       "4      f  74.0         movies       0     movies"
      ]
     },
     "execution_count": 33,
     "metadata": {},
     "output_type": "execute_result"
    }
   ],
   "source": [
    "dstwst.head()"
   ]
  },
  {
   "cell_type": "code",
   "execution_count": 34,
   "id": "d9d14372",
   "metadata": {},
   "outputs": [
    {
     "data": {
      "text/plain": [
       "0.2588116817724068"
      ]
     },
     "execution_count": 34,
     "metadata": {},
     "output_type": "execute_result"
    }
   ],
   "source": [
    "dstwst[\"Recommendation\"] = dstwst[\"Recommendation\"].astype('category')\n",
    "dstwst[\"Recommendation\"] = dstwst[\"Recommendation\"].cat.codes\n",
    "dstwst[\"prediction\"] = dstwst[\"prediction\"].astype('category')\n",
    "dstwst[\"prediction\"] = dstwst[\"prediction\"].cat.codes\n",
    "accuracy_score(dstwst[\"Recommendation\"] , dstwst[\"prediction\"])"
   ]
  },
  {
   "cell_type": "code",
   "execution_count": 35,
   "id": "76650cce",
   "metadata": {},
   "outputs": [
    {
     "data": {
      "text/plain": [
       "1"
      ]
     },
     "execution_count": 35,
     "metadata": {},
     "output_type": "execute_result"
    }
   ],
   "source": [
    "vw.predict(\"| f 30.0\")"
   ]
  },
  {
   "cell_type": "markdown",
   "id": "1762c923",
   "metadata": {},
   "source": [
    "# Classification"
   ]
  },
  {
   "cell_type": "code",
   "execution_count": 36,
   "id": "4065b15a",
   "metadata": {},
   "outputs": [],
   "source": [
    "dataset = dataset[dataset['Reward'] == 1]"
   ]
  },
  {
   "cell_type": "code",
   "execution_count": 37,
   "id": "a6787531",
   "metadata": {},
   "outputs": [],
   "source": [
    "training = dataset[['Gender','Age','Recommendation']].copy()\n",
    "testing = test[['Gender','Age','Recommendation']].copy()\n",
    "\n",
    "training[\"Recommendation\"] = training[\"Recommendation\"].astype('category')\n",
    "training[\"Recommendation\"] = training[\"Recommendation\"].cat.codes\n",
    "testing[\"Recommendation\"] = testing[\"Recommendation\"].astype('category')\n",
    "testing[\"Recommendation\"] = testing[\"Recommendation\"].cat.codes"
   ]
  },
  {
   "cell_type": "code",
   "execution_count": 38,
   "id": "4dca57a4",
   "metadata": {},
   "outputs": [
    {
     "data": {
      "text/html": [
       "<div>\n",
       "<style scoped>\n",
       "    .dataframe tbody tr th:only-of-type {\n",
       "        vertical-align: middle;\n",
       "    }\n",
       "\n",
       "    .dataframe tbody tr th {\n",
       "        vertical-align: top;\n",
       "    }\n",
       "\n",
       "    .dataframe thead th {\n",
       "        text-align: right;\n",
       "    }\n",
       "</style>\n",
       "<table border=\"1\" class=\"dataframe\">\n",
       "  <thead>\n",
       "    <tr style=\"text-align: right;\">\n",
       "      <th></th>\n",
       "      <th>Gender</th>\n",
       "      <th>Age</th>\n",
       "      <th>Recommendation</th>\n",
       "    </tr>\n",
       "  </thead>\n",
       "  <tbody>\n",
       "    <tr>\n",
       "      <th>1</th>\n",
       "      <td>m</td>\n",
       "      <td>28.0</td>\n",
       "      <td>1</td>\n",
       "    </tr>\n",
       "    <tr>\n",
       "      <th>8</th>\n",
       "      <td>m</td>\n",
       "      <td>13.0</td>\n",
       "      <td>3</td>\n",
       "    </tr>\n",
       "    <tr>\n",
       "      <th>10</th>\n",
       "      <td>m</td>\n",
       "      <td>83.0</td>\n",
       "      <td>0</td>\n",
       "    </tr>\n",
       "    <tr>\n",
       "      <th>12</th>\n",
       "      <td>m</td>\n",
       "      <td>87.0</td>\n",
       "      <td>0</td>\n",
       "    </tr>\n",
       "    <tr>\n",
       "      <th>16</th>\n",
       "      <td>m</td>\n",
       "      <td>28.0</td>\n",
       "      <td>3</td>\n",
       "    </tr>\n",
       "  </tbody>\n",
       "</table>\n",
       "</div>"
      ],
      "text/plain": [
       "   Gender   Age  Recommendation\n",
       "1       m  28.0               1\n",
       "8       m  13.0               3\n",
       "10      m  83.0               0\n",
       "12      m  87.0               0\n",
       "16      m  28.0               3"
      ]
     },
     "execution_count": 38,
     "metadata": {},
     "output_type": "execute_result"
    }
   ],
   "source": [
    "training.head()"
   ]
  },
  {
   "cell_type": "code",
   "execution_count": 39,
   "id": "235cb10f",
   "metadata": {},
   "outputs": [
    {
     "data": {
      "text/html": [
       "<div>\n",
       "<style scoped>\n",
       "    .dataframe tbody tr th:only-of-type {\n",
       "        vertical-align: middle;\n",
       "    }\n",
       "\n",
       "    .dataframe tbody tr th {\n",
       "        vertical-align: top;\n",
       "    }\n",
       "\n",
       "    .dataframe thead th {\n",
       "        text-align: right;\n",
       "    }\n",
       "</style>\n",
       "<table border=\"1\" class=\"dataframe\">\n",
       "  <thead>\n",
       "    <tr style=\"text-align: right;\">\n",
       "      <th></th>\n",
       "      <th>Gender</th>\n",
       "      <th>Age</th>\n",
       "      <th>Recommendation</th>\n",
       "    </tr>\n",
       "  </thead>\n",
       "  <tbody>\n",
       "    <tr>\n",
       "      <th>0</th>\n",
       "      <td>m</td>\n",
       "      <td>34.0</td>\n",
       "      <td>2</td>\n",
       "    </tr>\n",
       "    <tr>\n",
       "      <th>1</th>\n",
       "      <td>m</td>\n",
       "      <td>73.0</td>\n",
       "      <td>2</td>\n",
       "    </tr>\n",
       "    <tr>\n",
       "      <th>2</th>\n",
       "      <td>f</td>\n",
       "      <td>71.0</td>\n",
       "      <td>3</td>\n",
       "    </tr>\n",
       "    <tr>\n",
       "      <th>3</th>\n",
       "      <td>f</td>\n",
       "      <td>22.0</td>\n",
       "      <td>0</td>\n",
       "    </tr>\n",
       "    <tr>\n",
       "      <th>4</th>\n",
       "      <td>f</td>\n",
       "      <td>74.0</td>\n",
       "      <td>1</td>\n",
       "    </tr>\n",
       "  </tbody>\n",
       "</table>\n",
       "</div>"
      ],
      "text/plain": [
       "  Gender   Age  Recommendation\n",
       "0      m  34.0               2\n",
       "1      m  73.0               2\n",
       "2      f  71.0               3\n",
       "3      f  22.0               0\n",
       "4      f  74.0               1"
      ]
     },
     "execution_count": 39,
     "metadata": {},
     "output_type": "execute_result"
    }
   ],
   "source": [
    "testing.head()"
   ]
  },
  {
   "cell_type": "code",
   "execution_count": 40,
   "id": "a49e063d",
   "metadata": {},
   "outputs": [],
   "source": [
    "y_train = training.pop('Recommendation')\n",
    "y_test = testing.pop('Recommendation')"
   ]
  },
  {
   "cell_type": "code",
   "execution_count": 41,
   "id": "ebb66a46",
   "metadata": {},
   "outputs": [],
   "source": [
    "#Onehotencoder vs Ordinalencoder\n",
    "from sklearn.compose import ColumnTransformer\n",
    "from sklearn.base import TransformerMixin\n",
    "from sklearn.impute import SimpleImputer\n",
    "from sklearn.preprocessing import StandardScaler, OneHotEncoder, OrdinalEncoder\n",
    "from sklearn.pipeline import Pipeline\n",
    "import pandas as pd\n",
    "\n",
    "from sklearn import preprocessing, metrics\n",
    "from sklearn.metrics import accuracy_score, roc_curve, auc, confusion_matrix\n",
    "\n",
    "from sklearn.experimental import enable_iterative_imputer\n",
    "from sklearn.impute import IterativeImputer"
   ]
  },
  {
   "cell_type": "code",
   "execution_count": 42,
   "id": "5ee08358",
   "metadata": {},
   "outputs": [],
   "source": [
    "## preprocessing pipeline\n",
    "\n",
    "numeric_features = ['Age']\n",
    "numeric_transformer = Pipeline(steps=[\n",
    "    ('imputer', SimpleImputer())])\n",
    "\n",
    "categorical_features = ['Gender']\n",
    "categorical_transformer = Pipeline(steps=[\n",
    "    ('imputer', SimpleImputer(strategy='constant', fill_value='missing')),\n",
    "    ('encod', OrdinalEncoder())])\n",
    "\n",
    "preprocessor = ColumnTransformer(\n",
    "    transformers=[\n",
    "        ('num', numeric_transformer, numeric_features),\n",
    "        ('cat', categorical_transformer, categorical_features)])"
   ]
  },
  {
   "cell_type": "code",
   "execution_count": 43,
   "id": "8bcfd853",
   "metadata": {},
   "outputs": [],
   "source": [
    "from sklearn.tree import DecisionTreeClassifier\n",
    "# Create a pipeline \n",
    "pipeDT = Pipeline(steps=[('pre', preprocessor),\n",
    "                          ('dt', DecisionTreeClassifier(max_depth = 2))]).fit(training, y_train)\n",
    "# Predict \n",
    "y_pred = pipeDT.predict(testing)\n"
   ]
  },
  {
   "cell_type": "code",
   "execution_count": 44,
   "id": "8f00af35",
   "metadata": {},
   "outputs": [
    {
     "name": "stdout",
     "output_type": "stream",
     "text": [
      "The accuracy is \t 0.2497482376636455\n"
     ]
    }
   ],
   "source": [
    "print (\"The accuracy is \\t\", metrics.accuracy_score(y_test, y_pred))\n"
   ]
  },
  {
   "cell_type": "code",
   "execution_count": 45,
   "id": "82c831f4",
   "metadata": {},
   "outputs": [
    {
     "data": {
      "text/plain": [
       "[Text(167.4, 181.2, 'X[0] <= 49.5\\ngini = 0.675\\nsamples = 1501\\nvalue = [688, 203, 429, 181]'),\n",
       " Text(83.7, 108.72, 'X[1] <= 0.5\\ngini = 0.749\\nsamples = 815\\nvalue = [207, 203, 224, 181]'),\n",
       " Text(41.85, 36.23999999999998, 'gini = 0.718\\nsamples = 402\\nvalue = [140, 133, 69, 60]'),\n",
       " Text(125.55000000000001, 36.23999999999998, 'gini = 0.718\\nsamples = 413\\nvalue = [67, 70, 155, 121]'),\n",
       " Text(251.10000000000002, 108.72, 'X[0] <= 95.5\\ngini = 0.419\\nsamples = 686\\nvalue = [481, 0, 205, 0]'),\n",
       " Text(209.25, 36.23999999999998, 'gini = 0.427\\nsamples = 644\\nvalue = [445, 0, 199, 0]'),\n",
       " Text(292.95, 36.23999999999998, 'gini = 0.245\\nsamples = 42\\nvalue = [36, 0, 6, 0]')]"
      ]
     },
     "execution_count": 45,
     "metadata": {},
     "output_type": "execute_result"
    },
    {
     "data": {
      "image/png": "[encoded data removed]",
      "text/plain": [
       "<Figure size 432x288 with 1 Axes>"
      ]
     },
     "metadata": {
      "needs_background": "light"
     },
     "output_type": "display_data"
    }
   ],
   "source": [
    "from sklearn.tree import plot_tree\n",
    "plot_tree(pipeDT[1])  "
   ]
  },
  {
   "cell_type": "code",
   "execution_count": 46,
   "id": "e7bba7e2",
   "metadata": {},
   "outputs": [],
   "source": [
    "import numpy as np\n",
    "import matplotlib.pyplot as plt\n",
    "import pandas as pd\n",
    "from sklearn.metrics import accuracy_score\n",
    "from sklearn.neighbors import KNeighborsClassifier"
   ]
  },
  {
   "cell_type": "code",
   "execution_count": 47,
   "id": "b8805da3",
   "metadata": {},
   "outputs": [
    {
     "data": {
      "text/html": [
       "<div>\n",
       "<style scoped>\n",
       "    .dataframe tbody tr th:only-of-type {\n",
       "        vertical-align: middle;\n",
       "    }\n",
       "\n",
       "    .dataframe tbody tr th {\n",
       "        vertical-align: top;\n",
       "    }\n",
       "\n",
       "    .dataframe thead th {\n",
       "        text-align: right;\n",
       "    }\n",
       "</style>\n",
       "<table border=\"1\" class=\"dataframe\">\n",
       "  <thead>\n",
       "    <tr style=\"text-align: right;\">\n",
       "      <th></th>\n",
       "      <th>Gender</th>\n",
       "      <th>Age</th>\n",
       "      <th>Recommendation</th>\n",
       "      <th>Reward</th>\n",
       "    </tr>\n",
       "  </thead>\n",
       "  <tbody>\n",
       "    <tr>\n",
       "      <th>0</th>\n",
       "      <td>m</td>\n",
       "      <td>29.0</td>\n",
       "      <td>health</td>\n",
       "      <td>0</td>\n",
       "    </tr>\n",
       "    <tr>\n",
       "      <th>1</th>\n",
       "      <td>m</td>\n",
       "      <td>28.0</td>\n",
       "      <td>movies</td>\n",
       "      <td>1</td>\n",
       "    </tr>\n",
       "    <tr>\n",
       "      <th>2</th>\n",
       "      <td>m</td>\n",
       "      <td>34.0</td>\n",
       "      <td>news</td>\n",
       "      <td>1</td>\n",
       "    </tr>\n",
       "    <tr>\n",
       "      <th>3</th>\n",
       "      <td>m</td>\n",
       "      <td>36.0</td>\n",
       "      <td>health</td>\n",
       "      <td>0</td>\n",
       "    </tr>\n",
       "    <tr>\n",
       "      <th>4</th>\n",
       "      <td>f</td>\n",
       "      <td>24.0</td>\n",
       "      <td>news</td>\n",
       "      <td>0</td>\n",
       "    </tr>\n",
       "  </tbody>\n",
       "</table>\n",
       "</div>"
      ],
      "text/plain": [
       "  Gender   Age Recommendation  Reward\n",
       "0      m  29.0         health       0\n",
       "1      m  28.0         movies       1\n",
       "2      m  34.0           news       1\n",
       "3      m  36.0         health       0\n",
       "4      f  24.0           news       0"
      ]
     },
     "execution_count": 47,
     "metadata": {},
     "output_type": "execute_result"
    }
   ],
   "source": [
    "data = pd.read_csv('SimulatedArticleData.csv', index_col=[0])\n",
    "data.head()"
   ]
  },
  {
   "cell_type": "code",
   "execution_count": 48,
   "id": "31800d4c",
   "metadata": {},
   "outputs": [
    {
     "data": {
      "text/plain": [
       "[]"
      ]
     },
     "execution_count": 48,
     "metadata": {},
     "output_type": "execute_result"
    },
    {
     "data": {
      "image/png": "[encoded data removed]",
      "text/plain": [
       "<Figure size 432x288 with 1 Axes>"
      ]
     },
     "metadata": {
      "needs_background": "light"
     },
     "output_type": "display_data"
    }
   ],
   "source": [
    "data_x = data[['Age']]\n",
    "data_y = data['Gender']\n",
    "plt.scatter(data_x, data_y)\n",
    "plt.plot()"
   ]
  },
  {
   "cell_type": "code",
   "execution_count": 49,
   "id": "0e7287cf",
   "metadata": {},
   "outputs": [
    {
     "data": {
      "image/png": "[encoded data removed]",
      "text/plain": [
       "<Figure size 432x288 with 1 Axes>"
      ]
     },
     "metadata": {
      "needs_background": "light"
     },
     "output_type": "display_data"
    }
   ],
   "source": [
    "knn1 = KNeighborsClassifier(n_neighbors=1)\n",
    "knn10 = KNeighborsClassifier(n_neighbors=10)\n",
    "knn50 = KNeighborsClassifier(n_neighbors=50)\n",
    "knn150 = KNeighborsClassifier(n_neighbors=150)\n",
    "\n",
    "knn1.fit(data_x, data_y);\n",
    "knn10.fit(data_x, data_y);\n",
    "knn50.fit(data_x, data_y);\n",
    "knn150.fit(data_x, data_y);\n",
    "\n",
    "\n",
    "fig = plt.figure()\n",
    "fig.patch.set_alpha(0.0)\n",
    "plt.xkcd(scale=0.1, length=0.0)\n",
    "plt.gcf().subplots_adjust(bottom=0.20, left = 0.16, right=0.86)\n",
    "\n",
    "\n",
    "x=np.linspace(np.min(data_x),np.max(data_x),500)\n",
    "yhat1 = knn1.predict(x)\n",
    "yhat10 = knn10.predict(x)\n",
    "yhat50 = knn50.predict(x)\n",
    "yhat150 = knn150.predict(x)\n",
    "\n",
    "plt.plot(data_x, data_y, 'o' ,alpha=0.1, label='Data')\n",
    "plt.plot(x,yhat1, label='knn1')\n",
    "plt.plot(x,yhat10, label='knn10')\n",
    "plt.plot(x,yhat50, label='knn50')\n",
    "plt.plot(x,yhat150, label='knn150')\n",
    "\n",
    "plt.legend()\n",
    "\n",
    "plt.xlabel(\"Age\")\n",
    "plt.ylabel(\"Gender\")\n",
    "\n",
    "plt.show()\n"
   ]
  },
  {
   "cell_type": "code",
   "execution_count": null,
   "id": "ba1e4bf1",
   "metadata": {},
   "outputs": [],
   "source": []
  }
 ],
 "metadata": {
  "kernelspec": {
   "display_name": "Python 3 (ipykernel)",
   "language": "python",
   "name": "python3"
  },
  "language_info": {
   "codemirror_mode": {
    "name": "ipython",
    "version": 3
   },
   "file_extension": ".py",
   "mimetype": "text/x-python",
   "name": "python",
   "nbconvert_exporter": "python",
   "pygments_lexer": "ipython3",
   "version": "3.9.7"
  }
 },
 "nbformat": 4,
 "nbformat_minor": 5
}
